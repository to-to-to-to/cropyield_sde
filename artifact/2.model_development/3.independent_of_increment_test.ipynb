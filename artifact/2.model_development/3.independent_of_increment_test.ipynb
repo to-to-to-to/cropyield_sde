{
 "cells": [
  {
   "cell_type": "code",
   "execution_count": 1,
   "metadata": {},
   "outputs": [],
   "source": [
    "import pandas as pd\n",
    "from statsmodels.stats.diagnostic import acorr_ljungbox"
   ]
  },
  {
   "cell_type": "code",
   "execution_count": 2,
   "metadata": {},
   "outputs": [
    {
     "name": "stdout",
     "output_type": "stream",
     "text": [
      "        lb_stat      lb_pvalue     Result\n",
      "10  1368.730927  5.589060e-288  Reject H0\n"
     ]
    }
   ],
   "source": [
    "# Load the dataset\n",
    "file_path = '../datasets/CropSDEData/YIELD_NUTS0_NL.csv'\n",
    "data = pd.read_csv(file_path)\n",
    "\n",
    "# Extract the YIELD column for testing\n",
    "yield_data = data['YIELD']\n",
    "\n",
    "# Perform the Box-Ljung test for autocorrelation (using lag 10)\n",
    "box_ljung_test = acorr_ljungbox(yield_data, lags=[10], return_df=True)\n",
    "\n",
    "# Get the p-value from the test result\n",
    "box_ljung_p_value = box_ljung_test['lb_pvalue'].values[0]\n",
    "\n",
    "# Set significance level\n",
    "alpha = 0.05\n",
    "\n",
    "# Hypothesis result\n",
    "box_ljung_result = \"Reject H0\" if box_ljung_p_value < alpha else \"Fail to reject H0\"\n",
    "\n",
    "# Add result to the dataframe\n",
    "box_ljung_test['Result'] = box_ljung_result\n",
    "\n",
    "# Displaying the results\n",
    "print(box_ljung_test)\n"
   ]
  },
  {
   "attachments": {},
   "cell_type": "markdown",
   "metadata": {},
   "source": [
    "Reject H0, which indicates that there is significant autocorrelation in the data (i.e., the data is not independently distributed)."
   ]
  }
 ],
 "metadata": {
  "kernelspec": {
   "display_name": "base",
   "language": "python",
   "name": "python3"
  },
  "language_info": {
   "codemirror_mode": {
    "name": "ipython",
    "version": 3
   },
   "file_extension": ".py",
   "mimetype": "text/x-python",
   "name": "python",
   "nbconvert_exporter": "python",
   "pygments_lexer": "ipython3",
   "version": "3.12.4"
  },
  "orig_nbformat": 4
 },
 "nbformat": 4,
 "nbformat_minor": 2
}

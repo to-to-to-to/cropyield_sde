{
 "cells": [
  {
   "cell_type": "code",
   "execution_count": 8,
   "metadata": {},
   "outputs": [],
   "source": [
    "import pandas as pd\n",
    "from statsmodels.stats.diagnostic import acorr_ljungbox"
   ]
  },
  {
   "cell_type": "code",
   "execution_count": 9,
   "metadata": {},
   "outputs": [],
   "source": [
    "# Function to perform the Box-Ljung test\n",
    "def perform_box_ljung_test(df, yield_column, crop_column=None, region_column=None, crop_name=None, region_code=None):\n",
    "    # Filter dataset if crop and region are provided\n",
    "    if crop_column and region_column and crop_name and region_code:\n",
    "        filtered_data = df[(df[crop_column] == crop_name) & (df[region_column] == region_code)]\n",
    "    else:\n",
    "        filtered_data = df\n",
    "\n",
    "    # Extract yield values\n",
    "    yield_values = filtered_data[yield_column].dropna().values\n",
    "\n",
    "    # Perform the Box-Ljung test for autocorrelation (using lag 10)\n",
    "    box_ljung_test = acorr_ljungbox(yield_values, lags=[10], return_df=True)\n",
    "\n",
    "    # Get the p-value from the test result\n",
    "    box_ljung_p_value = box_ljung_test['lb_pvalue'].values[0]\n",
    "\n",
    "    # Set significance level\n",
    "    alpha = 0.05\n",
    "\n",
    "    # Hypothesis result\n",
    "    box_ljung_result = \"Reject H0\" if box_ljung_p_value < alpha else \"Fail to reject H0\"\n",
    "\n",
    "    # Add result to the dataframe\n",
    "    box_ljung_test['Result'] = box_ljung_result\n",
    "\n",
    "    # Display the results\n",
    "    print(box_ljung_test)"
   ]
  },
  {
   "cell_type": "code",
   "execution_count": 10,
   "metadata": {},
   "outputs": [],
   "source": [
    "file_path_nuts0 = '../datasets/CropSDEData/YIELD_NUTS0_NL.csv'\n",
    "file_path_nuts2 = '../datasets/CropSDEData/YIELD_NUTS2_NL_transposed.csv'  \n",
    "file_path_mcyfs = '../datasets/CropSDEData/YIELD_PRED_MCYFS_NUTS0_NL.csv'\n",
    "\n",
    "nuts0_df = pd.read_csv(file_path_nuts0)\n",
    "nuts2_df = pd.read_csv(file_path_nuts2)\n",
    "mcyfs_df = pd.read_csv(file_path_mcyfs)"
   ]
  },
  {
   "cell_type": "code",
   "execution_count": 11,
   "metadata": {},
   "outputs": [
    {
     "name": "stdout",
     "output_type": "stream",
     "text": [
      "\n",
      "--- NUTS0 Dataset (National Level) ---\n",
      "      lb_stat     lb_pvalue     Result\n",
      "10  152.70255  1.035534e-27  Reject H0\n"
     ]
    }
   ],
   "source": [
    "# Run tests for NUTS0 dataset\n",
    "print(\"\\n--- NUTS0 Dataset (National Level) ---\")\n",
    "perform_box_ljung_test(nuts0_df, yield_column='YIELD', crop_column='CROP', region_column='IDREGION', crop_name='spring barley', region_code='NL')"
   ]
  },
  {
   "cell_type": "code",
   "execution_count": 12,
   "metadata": {},
   "outputs": [
    {
     "name": "stdout",
     "output_type": "stream",
     "text": [
      "\n",
      "--- NUTS2 Dataset (Regional Level) ---\n",
      "     lb_stat  lb_pvalue             Result\n",
      "10  6.441436   0.776913  Fail to reject H0\n"
     ]
    }
   ],
   "source": [
    "# Run tests for NUTS2 dataset\n",
    "print(\"\\n--- NUTS2 Dataset (Regional Level) ---\")\n",
    "perform_box_ljung_test(nuts2_df, yield_column='yield', crop_column='CROP', region_column='IDREGION', crop_name='Spring barley', region_code='NL13')"
   ]
  },
  {
   "cell_type": "code",
   "execution_count": 13,
   "metadata": {},
   "outputs": [
    {
     "name": "stdout",
     "output_type": "stream",
     "text": [
      "\n",
      "--- MCYFS Predicted Data ---\n",
      "      lb_stat     lb_pvalue     Result\n",
      "10  50.652616  2.024012e-07  Reject H0\n"
     ]
    }
   ],
   "source": [
    "# Run tests for MCYFS Predicted Data\n",
    "print(\"\\n--- MCYFS Predicted Data ---\")\n",
    "perform_box_ljung_test(mcyfs_df, yield_column='YIELD_PRED', crop_column='CROP', region_column='IDREGION', crop_name='Spring barley', region_code='NL')\n"
   ]
  },
  {
   "attachments": {},
   "cell_type": "markdown",
   "metadata": {},
   "source": [
    "Reject H0, which indicates that there is significant autocorrelation in the data (i.e., the data is not independently distributed)."
   ]
  }
 ],
 "metadata": {
  "kernelspec": {
   "display_name": "base",
   "language": "python",
   "name": "python3"
  },
  "language_info": {
   "codemirror_mode": {
    "name": "ipython",
    "version": 3
   },
   "file_extension": ".py",
   "mimetype": "text/x-python",
   "name": "python",
   "nbconvert_exporter": "python",
   "pygments_lexer": "ipython3",
   "version": "3.12.4"
  },
  "orig_nbformat": 4
 },
 "nbformat": 4,
 "nbformat_minor": 2
}

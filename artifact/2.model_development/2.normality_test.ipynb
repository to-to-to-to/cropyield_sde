{
 "cells": [
  {
   "cell_type": "code",
   "execution_count": 1,
   "metadata": {},
   "outputs": [],
   "source": [
    "import pandas as pd\n",
    "from scipy.stats import shapiro, jarque_bera"
   ]
  },
  {
   "cell_type": "code",
   "execution_count": 3,
   "metadata": {},
   "outputs": [
    {
     "name": "stdout",
     "output_type": "stream",
     "text": [
      "               Shapiro-Wilk Test Jarque-Bera Test\n",
      "Test Statistic          0.838087        16.699521\n",
      "P-Value                      0.0         0.000236\n",
      "Result                 Reject H0        Reject H0\n"
     ]
    }
   ],
   "source": [
    "# Load the dataset\n",
    "file_path = '../datasets/CropSDEData/YIELD_NUTS0_NL.csv'\n",
    "data = pd.read_csv(file_path)\n",
    "\n",
    "# Extract the YIELD column for testing\n",
    "yield_data = data['YIELD']\n",
    "\n",
    "# Perform the Shapiro-Wilk test\n",
    "shapiro_stat, shapiro_p_value = shapiro(yield_data)\n",
    "\n",
    "# Perform the Jarque-Bera test\n",
    "jb_stat, jb_p_value = jarque_bera(yield_data)\n",
    "\n",
    "# Set significance level\n",
    "alpha = 0.05\n",
    "\n",
    "# Hypothesis results\n",
    "shapiro_result = \"Reject H0\" if shapiro_p_value < alpha else \"Fail to reject H0\"\n",
    "jb_result = \"Reject H0\" if jb_p_value < alpha else \"Fail to reject H0\"\n",
    "\n",
    "# Display results\n",
    "test_results = {\n",
    "    'Shapiro-Wilk Test': {\n",
    "        'Test Statistic': shapiro_stat,\n",
    "        'P-Value': shapiro_p_value,\n",
    "        'Result': shapiro_result\n",
    "    },\n",
    "    'Jarque-Bera Test': {\n",
    "        'Test Statistic': jb_stat,\n",
    "        'P-Value': jb_p_value,\n",
    "        'Result': jb_result\n",
    "    }\n",
    "}\n",
    "\n",
    "# Convert to DataFrame for display\n",
    "results_df = pd.DataFrame(test_results)\n",
    "\n",
    "# Display results\n",
    "print(results_df)\n"
   ]
  }
 ],
 "metadata": {
  "kernelspec": {
   "display_name": "base",
   "language": "python",
   "name": "python3"
  },
  "language_info": {
   "codemirror_mode": {
    "name": "ipython",
    "version": 3
   },
   "file_extension": ".py",
   "mimetype": "text/x-python",
   "name": "python",
   "nbconvert_exporter": "python",
   "pygments_lexer": "ipython3",
   "version": "3.12.4"
  },
  "orig_nbformat": 4
 },
 "nbformat": 4,
 "nbformat_minor": 2
}

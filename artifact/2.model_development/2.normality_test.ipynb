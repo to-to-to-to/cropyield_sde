{
 "cells": [
  {
   "cell_type": "code",
   "execution_count": 1,
   "metadata": {},
   "outputs": [],
   "source": [
    "import pandas as pd\n",
    "from scipy.stats import shapiro, jarque_bera"
   ]
  },
  {
   "cell_type": "code",
   "execution_count": 2,
   "metadata": {},
   "outputs": [],
   "source": [
    "# Function to perform Shapiro-Wilk and Jarque-Bera tests\n",
    "def perform_normality_tests(df, yield_column, crop_column=None, region_column=None, crop_name=None, region_code=None):\n",
    "    # Filter dataset if crop and region are provided\n",
    "    if crop_column and region_column and crop_name and region_code:\n",
    "        filtered_data = df[(df[crop_column] == crop_name) & (df[region_column] == region_code)]\n",
    "    else:\n",
    "        filtered_data = df\n",
    "\n",
    "    # Extract yield values and drop missing data\n",
    "    yield_values = filtered_data[yield_column].dropna()\n",
    "\n",
    "    # Perform the Shapiro-Wilk test\n",
    "    shapiro_stat, shapiro_p_value = shapiro(yield_values)\n",
    "\n",
    "    # Perform the Jarque-Bera test\n",
    "    jb_stat, jb_p_value = jarque_bera(yield_values)\n",
    "\n",
    "    # Set significance level\n",
    "    alpha = 0.05\n",
    "\n",
    "    # Hypothesis results\n",
    "    shapiro_result = \"Reject H0\" if shapiro_p_value < alpha else \"Fail to reject H0\"\n",
    "    jb_result = \"Reject H0\" if jb_p_value < alpha else \"Fail to reject H0\"\n",
    "\n",
    "    # Display results\n",
    "    test_results = {\n",
    "        'Shapiro-Wilk Test': {\n",
    "            'Test Statistic': shapiro_stat,\n",
    "            'P-Value': shapiro_p_value,\n",
    "            'Result': shapiro_result\n",
    "        },\n",
    "        'Jarque-Bera Test': {\n",
    "            'Test Statistic': jb_stat,\n",
    "            'P-Value': jb_p_value,\n",
    "            'Result': jb_result\n",
    "        }\n",
    "    }\n",
    "\n",
    "    # Convert to DataFrame for display\n",
    "    results_df = pd.DataFrame(test_results)\n",
    "    print(results_df)"
   ]
  },
  {
   "cell_type": "code",
   "execution_count": 3,
   "metadata": {},
   "outputs": [],
   "source": [
    "# Load the datasets\n",
    "file_path_nuts0 = '../datasets/CropSDEData/YIELD_NUTS0_NL.csv'\n",
    "file_path_nuts2 = '../datasets/CropSDEData/YIELD_NUTS2_NL_transposed.csv'  \n",
    "file_path_mcyfs = '../datasets/CropSDEData/YIELD_PRED_MCYFS_NUTS0_NL.csv'\n",
    "\n",
    "nuts0_df = pd.read_csv(file_path_nuts0)\n",
    "nuts2_df = pd.read_csv(file_path_nuts2)\n",
    "mcyfs_df = pd.read_csv(file_path_mcyfs)"
   ]
  },
  {
   "cell_type": "code",
   "execution_count": 4,
   "metadata": {},
   "outputs": [
    {
     "name": "stdout",
     "output_type": "stream",
     "text": [
      "\n",
      "--- NUTS0 Dataset (National Level) ---\n",
      "                Shapiro-Wilk Test   Jarque-Bera Test\n",
      "Test Statistic           0.959025           2.644891\n",
      "P-Value                  0.086368           0.266483\n",
      "Result          Fail to reject H0  Fail to reject H0\n"
     ]
    }
   ],
   "source": [
    "# Run tests for NUTS0 dataset\n",
    "print(\"\\n--- NUTS0 Dataset (National Level) ---\")\n",
    "perform_normality_tests(nuts0_df, yield_column='YIELD', crop_column='CROP', region_column='IDREGION', crop_name='spring barley', region_code='NL')"
   ]
  },
  {
   "cell_type": "code",
   "execution_count": 5,
   "metadata": {},
   "outputs": [
    {
     "name": "stdout",
     "output_type": "stream",
     "text": [
      "\n",
      "--- NUTS2 Dataset (Regional Level) ---\n",
      "                Shapiro-Wilk Test   Jarque-Bera Test\n",
      "Test Statistic           0.969481           0.737914\n",
      "P-Value                  0.631947           0.691455\n",
      "Result          Fail to reject H0  Fail to reject H0\n"
     ]
    }
   ],
   "source": [
    "# Run tests for NUTS2 dataset\n",
    "print(\"\\n--- NUTS2 Dataset (Regional Level) ---\")\n",
    "perform_normality_tests(nuts2_df, yield_column='yield', crop_column='CROP', region_column='IDREGION', crop_name='Spring barley', region_code='NL13')"
   ]
  },
  {
   "cell_type": "code",
   "execution_count": 6,
   "metadata": {},
   "outputs": [
    {
     "name": "stdout",
     "output_type": "stream",
     "text": [
      "\n",
      "--- MCYFS Predicted Data ---\n",
      "               Shapiro-Wilk Test   Jarque-Bera Test\n",
      "Test Statistic          0.965383           4.116284\n",
      "P-Value                 0.007621           0.127691\n",
      "Result                 Reject H0  Fail to reject H0\n"
     ]
    }
   ],
   "source": [
    "# Run tests for MCYFS Predicted Data\n",
    "print(\"\\n--- MCYFS Predicted Data ---\")\n",
    "perform_normality_tests(mcyfs_df, yield_column='YIELD_PRED', crop_column='CROP', region_column='IDREGION', crop_name='Spring barley', region_code='NL')"
   ]
  }
 ],
 "metadata": {
  "kernelspec": {
   "display_name": "base",
   "language": "python",
   "name": "python3"
  },
  "language_info": {
   "codemirror_mode": {
    "name": "ipython",
    "version": 3
   },
   "file_extension": ".py",
   "mimetype": "text/x-python",
   "name": "python",
   "nbconvert_exporter": "python",
   "pygments_lexer": "ipython3",
   "version": "3.12.4"
  },
  "orig_nbformat": 4
 },
 "nbformat": 4,
 "nbformat_minor": 2
}

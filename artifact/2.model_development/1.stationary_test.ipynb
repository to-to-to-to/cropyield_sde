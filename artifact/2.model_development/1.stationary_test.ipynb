{
 "cells": [
  {
   "cell_type": "code",
   "execution_count": 12,
   "id": "945c4bd9-dbc5-4935-9251-9c2ad90fac03",
   "metadata": {},
   "outputs": [],
   "source": [
    "import pandas as pd\n",
    "from statsmodels.tsa.stattools import adfuller, kpss"
   ]
  },
  {
   "cell_type": "code",
   "execution_count": 13,
   "id": "52c7e008-a3ad-4a19-bf72-8ddb1ade23f8",
   "metadata": {},
   "outputs": [],
   "source": [
    "# Load the dataset\n",
    "file_path_new = '../datasets/CropSDEData/YIELD_NUTS0_NL.csv'\n",
    "new_df = pd.read_csv(file_path_new)\n",
    "\n",
    "# Filter the dataset for 'potato' crop in region 'NL'\n",
    "crop_name_new = 'potato'\n",
    "region_code_new = 'NL'\n",
    "filtered_data_new = new_df[(new_df['CROP'] == crop_name_new) & (new_df['IDREGION'] == region_code_new)]\n",
    "\n",
    "# Extract the yield values for further analysis\n",
    "yield_values_new = filtered_data_new['YIELD'].values"
   ]
  },
  {
   "cell_type": "code",
   "execution_count": 14,
   "id": "89a6cd3e-a943-4d35-9bb1-5d3e69380932",
   "metadata": {},
   "outputs": [
    {
     "name": "stdout",
     "output_type": "stream",
     "text": [
      "=== Hypotheses for ADF and KPSS Tests ===\n",
      "\n",
      "Augmented Dickey-Fuller (ADF) Test:\n",
      "H0: The series has a unit root (non-stationary)\n",
      "H1: The series is stationary\n",
      "\n",
      "KPSS Test:\n",
      "H0: The series is stationary\n",
      "H1: The series has a unit root (non-stationary)\n",
      "\n"
     ]
    }
   ],
   "source": [
    "# State the hypotheses for the tests\n",
    "print(\"=== Hypotheses for ADF and KPSS Tests ===\\n\")\n",
    "print(\"Augmented Dickey-Fuller (ADF) Test:\")\n",
    "print(\"H0: The series has a unit root (non-stationary)\")\n",
    "print(\"H1: The series is stationary\\n\")\n",
    "\n",
    "print(\"KPSS Test:\")\n",
    "print(\"H0: The series is stationary\")\n",
    "print(\"H1: The series has a unit root (non-stationary)\\n\")"
   ]
  },
  {
   "cell_type": "code",
   "execution_count": 15,
   "id": "b19c1657-15b4-47bb-9910-bb4fc093a9e6",
   "metadata": {},
   "outputs": [
    {
     "name": "stdout",
     "output_type": "stream",
     "text": [
      "=== ADF Test (Before Differencing) ===\n",
      "Test Statistic: -3.0242267879728044\n",
      "p-value: 0.03269303202291595\n",
      "Critical Values: {'1%': -3.60098336718852, '5%': -2.9351348158036012, '10%': -2.6059629803688282}\n",
      "Result: Reject H0 (The series is stationary according to the ADF test)\n"
     ]
    }
   ],
   "source": [
    "# Conduct Augmented Dickey-Fuller (ADF) test\n",
    "adf_result_new = adfuller(yield_values_new)\n",
    "print(\"=== ADF Test (Before Differencing) ===\")\n",
    "print(f\"Test Statistic: {adf_result_new[0]}\")\n",
    "print(f\"p-value: {adf_result_new[1]}\")\n",
    "print(f\"Critical Values: {adf_result_new[4]}\")\n",
    "\n",
    "if adf_result_new[1] < 0.05:\n",
    "    print(\"Result: Reject H0 (The series is stationary according to the ADF test)\")\n",
    "else:\n",
    "    print(\"Result: Fail to reject H0 (The series is non-stationary according to the ADF test)\")"
   ]
  },
  {
   "cell_type": "code",
   "execution_count": 16,
   "id": "13411ee8-b9f4-495c-a9d7-e843a1e1398c",
   "metadata": {},
   "outputs": [
    {
     "name": "stdout",
     "output_type": "stream",
     "text": [
      "\n",
      "=== KPSS Test (Before Differencing) ===\n",
      "Test Statistic: 0.7768700528306137\n",
      "p-value: 0.01\n",
      "Critical Values: {'10%': 0.347, '5%': 0.463, '2.5%': 0.574, '1%': 0.739}\n",
      "Result: Reject H0 (The series is non-stationary according to the KPSS test)\n"
     ]
    },
    {
     "name": "stderr",
     "output_type": "stream",
     "text": [
      "/var/folders/mk/qm568t1n2t11r_13jw7_kn400000gn/T/ipykernel_25932/3729845511.py:2: InterpolationWarning: The test statistic is outside of the range of p-values available in the\n",
      "look-up table. The actual p-value is smaller than the p-value returned.\n",
      "\n",
      "  kpss_result_new, kpss_p_value_new, kpss_lags_new, kpss_crit_new = kpss(yield_values_new, regression='c')\n"
     ]
    }
   ],
   "source": [
    "# Conduct KPSS test\n",
    "kpss_result_new, kpss_p_value_new, kpss_lags_new, kpss_crit_new = kpss(yield_values_new, regression='c')\n",
    "print(\"\\n=== KPSS Test (Before Differencing) ===\")\n",
    "print(f\"Test Statistic: {kpss_result_new}\")\n",
    "print(f\"p-value: {kpss_p_value_new}\")\n",
    "print(f\"Critical Values: {kpss_crit_new}\")\n",
    "\n",
    "if kpss_p_value_new < 0.05:\n",
    "    print(\"Result: Reject H0 (The series is non-stationary according to the KPSS test)\")\n",
    "else:\n",
    "    print(\"Result: Fail to reject H0 (The series is stationary according to the KPSS test)\")"
   ]
  },
  {
   "cell_type": "code",
   "execution_count": 17,
   "id": "0191f924-62c5-442f-8259-fa925372162a",
   "metadata": {},
   "outputs": [],
   "source": [
    "# Perform first-order differencing on the yield values to remove potential trends\n",
    "differenced_yield_new = pd.Series(yield_values_new).diff().dropna()"
   ]
  },
  {
   "cell_type": "code",
   "execution_count": 18,
   "id": "0332a1d4-9a07-4f3e-bd6e-813dc0138a62",
   "metadata": {},
   "outputs": [
    {
     "name": "stdout",
     "output_type": "stream",
     "text": [
      "\n",
      "\n",
      "=== ADF Test (After Differencing) ===\n",
      "Test Statistic: -8.364508509960169\n",
      "p-value: 2.766150297548819e-13\n",
      "Critical Values: {'1%': -3.584828853223594, '5%': -2.9282991495198907, '10%': -2.6023438271604937}\n",
      "Result: Reject H0 (The differenced series is stationary according to the ADF test)\n"
     ]
    }
   ],
   "source": [
    "# Conduct ADF test on the differenced series\n",
    "adf_diff_result_new = adfuller(differenced_yield_new)\n",
    "print(\"\\n\\n=== ADF Test (After Differencing) ===\")\n",
    "print(f\"Test Statistic: {adf_diff_result_new[0]}\")\n",
    "print(f\"p-value: {adf_diff_result_new[1]}\")\n",
    "print(f\"Critical Values: {adf_diff_result_new[4]}\")\n",
    "\n",
    "if adf_diff_result_new[1] < 0.05:\n",
    "    print(\"Result: Reject H0 (The differenced series is stationary according to the ADF test)\")\n",
    "else:\n",
    "    print(\"Result: Fail to reject H0 (The differenced series is non-stationary according to the ADF test)\")"
   ]
  },
  {
   "cell_type": "code",
   "execution_count": 19,
   "id": "27926692-fbe9-4437-9815-44c539b90451",
   "metadata": {},
   "outputs": [
    {
     "name": "stdout",
     "output_type": "stream",
     "text": [
      "\n",
      "=== KPSS Test (After Differencing) ===\n",
      "Test Statistic: 0.2889938963652828\n",
      "p-value: 0.1\n",
      "Critical Values: {'10%': 0.347, '5%': 0.463, '2.5%': 0.574, '1%': 0.739}\n",
      "Result: Fail to reject H0 (The differenced series is stationary according to the KPSS test)\n"
     ]
    },
    {
     "name": "stderr",
     "output_type": "stream",
     "text": [
      "/var/folders/mk/qm568t1n2t11r_13jw7_kn400000gn/T/ipykernel_25932/33164873.py:2: InterpolationWarning: The test statistic is outside of the range of p-values available in the\n",
      "look-up table. The actual p-value is greater than the p-value returned.\n",
      "\n",
      "  kpss_diff_result_new, kpss_diff_p_value_new, kpss_diff_lags_new, kpss_diff_crit_new = kpss(differenced_yield_new, regression='c')\n"
     ]
    }
   ],
   "source": [
    "# Conduct KPSS test on the differenced series\n",
    "kpss_diff_result_new, kpss_diff_p_value_new, kpss_diff_lags_new, kpss_diff_crit_new = kpss(differenced_yield_new, regression='c')\n",
    "print(\"\\n=== KPSS Test (After Differencing) ===\")\n",
    "print(f\"Test Statistic: {kpss_diff_result_new}\")\n",
    "print(f\"p-value: {kpss_diff_p_value_new}\")\n",
    "print(f\"Critical Values: {kpss_diff_crit_new}\")\n",
    "\n",
    "if kpss_diff_p_value_new < 0.05:\n",
    "    print(\"Result: Reject H0 (The differenced series is non-stationary according to the KPSS test)\")\n",
    "else:\n",
    "    print(\"Result: Fail to reject H0 (The differenced series is stationary according to the KPSS test)\")"
   ]
  },
  {
   "cell_type": "markdown",
   "id": "54c2af42-a1b3-4907-bc4b-e53e43e38909",
   "metadata": {},
   "source": [
    "- Both the ADF and KPSS tests now indicate that the differenced series is stationary.\n",
    "- The initial conflict between the ADF and KPSS tests has been resolved through differencing, which removed any trend or structural non-stationarity present in the original series."
   ]
  },
  {
   "cell_type": "code",
   "execution_count": null,
   "id": "43e3319f-4a66-4713-b308-57f7563f5e24",
   "metadata": {},
   "outputs": [],
   "source": []
  }
 ],
 "metadata": {
  "kernelspec": {
   "display_name": "Python 3 (ipykernel)",
   "language": "python",
   "name": "python3"
  },
  "language_info": {
   "codemirror_mode": {
    "name": "ipython",
    "version": 3
   },
   "file_extension": ".py",
   "mimetype": "text/x-python",
   "name": "python",
   "nbconvert_exporter": "python",
   "pygments_lexer": "ipython3",
   "version": "3.12.4"
  }
 },
 "nbformat": 4,
 "nbformat_minor": 5
}

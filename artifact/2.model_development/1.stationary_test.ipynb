{
 "cells": [
  {
   "cell_type": "code",
   "execution_count": 1,
   "id": "2693b98c",
   "metadata": {},
   "outputs": [],
   "source": [
    "import pandas as pd\n",
    "from statsmodels.tsa.stattools import adfuller, kpss"
   ]
  },
  {
   "cell_type": "code",
   "execution_count": 2,
   "id": "6521e612",
   "metadata": {},
   "outputs": [],
   "source": [
    "# Function to perform ADF and KPSS tests\n",
    "def perform_stationarity_tests(df, yield_column, crop_column=None, region_column=None, crop_name=None, region_code=None):\n",
    "    # Filter dataset if crop and region are provided\n",
    "    if crop_column and region_column and crop_name and region_code:\n",
    "        filtered_data = df[(df[crop_column] == crop_name) & (df[region_column] == region_code)]\n",
    "    else:\n",
    "        filtered_data = df\n",
    "\n",
    "    # Extract yield values and drop missing data\n",
    "    yield_values = filtered_data[yield_column].dropna().values\n",
    "\n",
    "    # ADF and KPSS tests before differencing\n",
    "    print(f\"=== ADF and KPSS Tests Before Differencing for {crop_name if crop_name else 'Dataset'} ===\")\n",
    "\n",
    "    # ADF Test\n",
    "    adf_result = adfuller(yield_values)\n",
    "    print(\"ADF Test:\")\n",
    "    print(f\"Test Statistic: {adf_result[0]}\")\n",
    "    print(f\"p-value: {adf_result[1]}\")\n",
    "    print(f\"Critical Values: {adf_result[4]}\")\n",
    "\n",
    "    if adf_result[1] < 0.05:\n",
    "        print(\"Result: Reject H0 (The series is stationary according to the ADF test)\")\n",
    "    else:\n",
    "        print(\"Result: Fail to reject H0 (The series is non-stationary according to the ADF test)\")\n",
    "\n",
    "    # KPSS Test\n",
    "    kpss_result, kpss_p_value, kpss_lags, kpss_crit = kpss(yield_values, regression='c')\n",
    "    print(\"\\nKPSS Test:\")\n",
    "    print(f\"Test Statistic: {kpss_result}\")\n",
    "    print(f\"p-value: {kpss_p_value}\")\n",
    "    print(f\"Critical Values: {kpss_crit}\")\n",
    "\n",
    "    if kpss_p_value < 0.05:\n",
    "        print(\"Result: Reject H0 (The series is non-stationary according to the KPSS test)\")\n",
    "    else:\n",
    "        print(\"Result: Fail to reject H0 (The series is stationary according to the KPSS test)\")\n",
    "\n",
    "    # Differencing the series\n",
    "    differenced_yield = pd.Series(yield_values).diff().dropna()\n",
    "\n",
    "    # ADF and KPSS tests after differencing\n",
    "    print(f\"\\n\\n=== ADF and KPSS Tests After Differencing for {crop_name if crop_name else 'Dataset'} ===\")\n",
    "\n",
    "    # ADF Test on Differenced Series\n",
    "    adf_diff_result = adfuller(differenced_yield)\n",
    "    print(\"ADF Test (Differenced Series):\")\n",
    "    print(f\"Test Statistic: {adf_diff_result[0]}\")\n",
    "    print(f\"p-value: {adf_diff_result[1]}\")\n",
    "    print(f\"Critical Values: {adf_diff_result[4]}\")\n",
    "\n",
    "    if adf_diff_result[1] < 0.05:\n",
    "        print(\"Result: Reject H0 (The differenced series is stationary according to the ADF test)\")\n",
    "    else:\n",
    "        print(\"Result: Fail to reject H0 (The differenced series is non-stationary according to the ADF test)\")\n",
    "\n",
    "    # KPSS Test on Differenced Series\n",
    "    kpss_diff_result, kpss_diff_p_value, kpss_diff_lags, kpss_diff_crit = kpss(differenced_yield, regression='c')\n",
    "    print(\"\\nKPSS Test (Differenced Series):\")\n",
    "    print(f\"Test Statistic: {kpss_diff_result}\")\n",
    "    print(f\"p-value: {kpss_diff_p_value}\")\n",
    "    print(f\"Critical Values: {kpss_diff_crit}\")\n",
    "\n",
    "    if kpss_diff_p_value < 0.05:\n",
    "        print(\"Result: Reject H0 (The differenced series is non-stationary according to the KPSS test)\")\n",
    "    else:\n",
    "        print(\"Result: Fail to reject H0 (The differenced series is stationary according to the KPSS test)\")"
   ]
  },
  {
   "cell_type": "code",
   "execution_count": 3,
   "id": "52c58f12",
   "metadata": {},
   "outputs": [],
   "source": [
    "# Load the datasets\n",
    "file_path_nuts0 = '../datasets/CropSDEData/YIELD_NUTS0_NL.csv'\n",
    "file_path_nuts2 = '../datasets/CropSDEData/YIELD_NUTS2_NL_transposed.csv'  # Updated NUTS2 dataset\n",
    "file_path_mcyfs = '../datasets/CropSDEData/YIELD_PRED_MCYFS_NUTS0_NL.csv'\n",
    "\n",
    "nuts0_df = pd.read_csv(file_path_nuts0)\n",
    "nuts2_df = pd.read_csv(file_path_nuts2)\n",
    "mcyfs_df = pd.read_csv(file_path_mcyfs)"
   ]
  },
  {
   "cell_type": "code",
   "execution_count": 4,
   "id": "1525fbe3",
   "metadata": {},
   "outputs": [
    {
     "name": "stdout",
     "output_type": "stream",
     "text": [
      "\n",
      "--- NUTS0 Dataset (National Level) ---\n",
      "=== ADF and KPSS Tests Before Differencing for spring barley ===\n",
      "ADF Test:\n",
      "Test Statistic: -1.565882427117624\n",
      "p-value: 0.5007055725466372\n",
      "Critical Values: {'1%': -3.584828853223594, '5%': -2.9282991495198907, '10%': -2.6023438271604937}\n",
      "Result: Fail to reject H0 (The series is non-stationary according to the ADF test)\n",
      "\n",
      "KPSS Test:\n",
      "Test Statistic: 1.0035689037553381\n",
      "p-value: 0.01\n",
      "Critical Values: {'10%': 0.347, '5%': 0.463, '2.5%': 0.574, '1%': 0.739}\n",
      "Result: Reject H0 (The series is non-stationary according to the KPSS test)\n",
      "\n",
      "\n",
      "=== ADF and KPSS Tests After Differencing for spring barley ===\n",
      "ADF Test (Differenced Series):\n",
      "Test Statistic: -8.157366913787719\n",
      "p-value: 9.34144324233832e-13\n",
      "Critical Values: {'1%': -3.584828853223594, '5%': -2.9282991495198907, '10%': -2.6023438271604937}\n",
      "Result: Reject H0 (The differenced series is stationary according to the ADF test)\n",
      "\n",
      "KPSS Test (Differenced Series):\n",
      "Test Statistic: 0.36294261884444906\n",
      "p-value: 0.09312818153256505\n",
      "Critical Values: {'10%': 0.347, '5%': 0.463, '2.5%': 0.574, '1%': 0.739}\n",
      "Result: Fail to reject H0 (The differenced series is stationary according to the KPSS test)\n"
     ]
    },
    {
     "name": "stderr",
     "output_type": "stream",
     "text": [
      "/var/folders/mk/qm568t1n2t11r_13jw7_kn400000gn/T/ipykernel_14409/667230031.py:28: InterpolationWarning: The test statistic is outside of the range of p-values available in the\n",
      "look-up table. The actual p-value is smaller than the p-value returned.\n",
      "\n",
      "  kpss_result, kpss_p_value, kpss_lags, kpss_crit = kpss(yield_values, regression='c')\n"
     ]
    }
   ],
   "source": [
    "# Run tests for NUTS0 dataset\n",
    "print(\"\\n--- NUTS0 Dataset (National Level) ---\")\n",
    "perform_stationarity_tests(nuts0_df, yield_column='YIELD', crop_column='CROP', region_column='IDREGION', crop_name='spring barley', region_code='NL')"
   ]
  },
  {
   "cell_type": "code",
   "execution_count": 5,
   "id": "683c7a88",
   "metadata": {},
   "outputs": [
    {
     "name": "stdout",
     "output_type": "stream",
     "text": [
      "\n",
      "--- NUTS2 Dataset (Regional Level) ---\n",
      "=== ADF and KPSS Tests Before Differencing for Spring barley ===\n",
      "ADF Test:\n",
      "Test Statistic: -4.45370309659887\n",
      "p-value: 0.00023819402487446027\n",
      "Critical Values: {'1%': -3.7377092158564813, '5%': -2.9922162731481485, '10%': -2.635746736111111}\n",
      "Result: Reject H0 (The series is stationary according to the ADF test)\n",
      "\n",
      "KPSS Test:\n",
      "Test Statistic: 0.636400637719211\n",
      "p-value: 0.019327214752799003\n",
      "Critical Values: {'10%': 0.347, '5%': 0.463, '2.5%': 0.574, '1%': 0.739}\n",
      "Result: Reject H0 (The series is non-stationary according to the KPSS test)\n",
      "\n",
      "\n",
      "=== ADF and KPSS Tests After Differencing for Spring barley ===\n",
      "ADF Test (Differenced Series):\n",
      "Test Statistic: -6.773897286508758\n",
      "p-value: 2.6000096543302015e-09\n",
      "Critical Values: {'1%': -3.7883858816542486, '5%': -3.013097747543462, '10%': -2.6463967573696143}\n",
      "Result: Reject H0 (The differenced series is stationary according to the ADF test)\n",
      "\n",
      "KPSS Test (Differenced Series):\n",
      "Test Statistic: 0.5000000000000004\n",
      "p-value: 0.04166666666666657\n",
      "Critical Values: {'10%': 0.347, '5%': 0.463, '2.5%': 0.574, '1%': 0.739}\n",
      "Result: Reject H0 (The differenced series is non-stationary according to the KPSS test)\n"
     ]
    }
   ],
   "source": [
    "# Run tests for NUTS2 dataset\n",
    "print(\"\\n--- NUTS2 Dataset (Regional Level) ---\")\n",
    "perform_stationarity_tests(nuts2_df, yield_column='yield', crop_column='CROP', region_column='IDREGION', crop_name='Spring barley', region_code='NL13')"
   ]
  },
  {
   "cell_type": "code",
   "execution_count": 6,
   "id": "d37fc657",
   "metadata": {},
   "outputs": [
    {
     "name": "stdout",
     "output_type": "stream",
     "text": [
      "\n",
      "--- MCYFS Predicted Data ---\n",
      "=== ADF and KPSS Tests Before Differencing for Spring barley ===\n",
      "ADF Test:\n",
      "Test Statistic: -2.521624673389196\n",
      "p-value: 0.11030106918270954\n",
      "Critical Values: {'1%': -3.503514579651927, '5%': -2.893507960466837, '10%': -2.583823615311909}\n",
      "Result: Fail to reject H0 (The series is non-stationary according to the ADF test)\n",
      "\n",
      "KPSS Test:\n",
      "Test Statistic: 0.40768464720382724\n",
      "p-value: 0.07384282448110895\n",
      "Critical Values: {'10%': 0.347, '5%': 0.463, '2.5%': 0.574, '1%': 0.739}\n",
      "Result: Fail to reject H0 (The series is stationary according to the KPSS test)\n",
      "\n",
      "\n",
      "=== ADF and KPSS Tests After Differencing for Spring barley ===\n",
      "ADF Test (Differenced Series):\n",
      "Test Statistic: -10.297548362569644\n",
      "p-value: 3.4395285170456132e-18\n",
      "Critical Values: {'1%': -3.4968181663902103, '5%': -2.8906107514600103, '10%': -2.5822770483285953}\n",
      "Result: Reject H0 (The differenced series is stationary according to the ADF test)\n",
      "\n",
      "KPSS Test (Differenced Series):\n",
      "Test Statistic: 0.09395166763108724\n",
      "p-value: 0.1\n",
      "Critical Values: {'10%': 0.347, '5%': 0.463, '2.5%': 0.574, '1%': 0.739}\n",
      "Result: Fail to reject H0 (The differenced series is stationary according to the KPSS test)\n"
     ]
    },
    {
     "name": "stderr",
     "output_type": "stream",
     "text": [
      "/var/folders/mk/qm568t1n2t11r_13jw7_kn400000gn/T/ipykernel_14409/667230031.py:58: InterpolationWarning: The test statistic is outside of the range of p-values available in the\n",
      "look-up table. The actual p-value is greater than the p-value returned.\n",
      "\n",
      "  kpss_diff_result, kpss_diff_p_value, kpss_diff_lags, kpss_diff_crit = kpss(differenced_yield, regression='c')\n"
     ]
    }
   ],
   "source": [
    "# Run tests for MCYFS Predicted Data\n",
    "print(\"\\n--- MCYFS Predicted Data ---\")\n",
    "perform_stationarity_tests(mcyfs_df, yield_column='YIELD_PRED', crop_column='CROP', region_column='IDREGION', crop_name='Spring barley', region_code='NL')\n"
   ]
  }
 ],
 "metadata": {
  "kernelspec": {
   "display_name": "Python 3 (ipykernel)",
   "language": "python",
   "name": "python3"
  },
  "language_info": {
   "codemirror_mode": {
    "name": "ipython",
    "version": 3
   },
   "file_extension": ".py",
   "mimetype": "text/x-python",
   "name": "python",
   "nbconvert_exporter": "python",
   "pygments_lexer": "ipython3",
   "version": "3.12.4"
  }
 },
 "nbformat": 4,
 "nbformat_minor": 5
}

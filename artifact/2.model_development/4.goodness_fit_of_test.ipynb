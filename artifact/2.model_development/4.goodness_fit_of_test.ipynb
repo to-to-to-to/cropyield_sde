{
 "cells": [
  {
   "cell_type": "code",
   "execution_count": 12,
   "metadata": {},
   "outputs": [],
   "source": [
    "import numpy as np\n",
    "import pandas as pd\n",
    "from scipy.stats import chi2\n",
    "import matplotlib.pyplot as plt"
   ]
  },
  {
   "cell_type": "code",
   "execution_count": 13,
   "metadata": {},
   "outputs": [],
   "source": [
    "# Load the dataset\n",
    "file_path = '../datasets/CropSDEData/YIELD_NUTS0_NL.csv'\n",
    "data = pd.read_csv(file_path)\n",
    "\n",
    "# Extract the YIELD column for testing\n",
    "yield_data = data['YIELD']\n",
    "\n",
    "# Step 1: Fitting the Ornstein-Uhlenbeck (OU) process\n",
    "mu_ou = np.mean(yield_data)  # Long-term mean set to the mean of the actual data\n",
    "theta_ou = 0.15  # Mean reversion rate (how fast the process reverts to the mean)\n",
    "sigma_ou = 0.1  # Volatility\n",
    "T = len(yield_data)  # Number of time points from the actual data\n",
    "\n",
    "# Simulate OU Process for trend\n",
    "ou_trend = np.zeros(T)\n",
    "ou_trend[0] = yield_data.iloc[0]  # Start from the first actual data point\n",
    "for t in range(1, T):\n",
    "    ou_trend[t] = ou_trend[t - 1] + theta_ou * (mu_ou - ou_trend[t - 1]) + sigma_ou * np.random.normal()\n"
   ]
  },
  {
   "cell_type": "code",
   "execution_count": 14,
   "metadata": {},
   "outputs": [],
   "source": [
    "# Step 2: Fitting the Geometric Brownian Motion (GBM) process\n",
    "mu_gbm = 0.02  # Drift\n",
    "sigma_gbm = 0.1  # Volatility\n",
    "\n",
    "gbm_trend = np.zeros(T)\n",
    "gbm_trend[0] = yield_data.iloc[0]\n",
    "for t in range(1, T):\n",
    "    gbm_trend[t] = gbm_trend[t - 1] * np.exp((mu_gbm - 0.5 * sigma_gbm ** 2) + sigma_gbm * np.random.normal())\n",
    "\n",
    "# Combine OU and GBM into a 2D array for comparison at each time step\n",
    "simulated_data = np.vstack((ou_trend, gbm_trend))"
   ]
  },
  {
   "cell_type": "code",
   "execution_count": 15,
   "metadata": {},
   "outputs": [],
   "source": [
    "# Step 3: Calculate ranks for the observed data compared to the simulated data\n",
    "ranks = np.zeros(T)\n",
    "\n",
    "# For each time step, rank the observed value compared to the simulated values\n",
    "for t in range(T):\n",
    "    combined_simulations = np.append(simulated_data[:, t], yield_data[t])  # Include the observed value\n",
    "    sorted_simulations = np.sort(combined_simulations)  # Sort them\n",
    "    ranks[t] = np.where(sorted_simulations == yield_data[t])[0][0] + 1  # Find the rank of the observed value"
   ]
  },
  {
   "cell_type": "code",
   "execution_count": 16,
   "metadata": {},
   "outputs": [
    {
     "name": "stdout",
     "output_type": "stream",
     "text": [
      "{'Chi-Square Statistic': 55.0, 'P-Value': 1.0, 'Result': 'Fail to reject H0'}\n"
     ]
    }
   ],
   "source": [
    "# Step 4: Calculate the test statistic based on the rank frequencies\n",
    "M = simulated_data.shape[0] + 1  # Total number of simulated values + 1 for observed\n",
    "expected_frequency = (M + 1) / 2  # Expected rank is the middle of the distribution\n",
    "\n",
    "# Chi-square test statistic\n",
    "chi_square_stat = np.sum((ranks - expected_frequency) ** 2 / expected_frequency)\n",
    "\n",
    "# Degrees of freedom\n",
    "df = T - 1  # One degree of freedom for each time point minus one\n",
    "p_value_rank = 1 - chi2.cdf(chi_square_stat, df)\n",
    "\n",
    "# Output the results\n",
    "rank_gof_result = {\n",
    "    'Chi-Square Statistic': chi_square_stat,\n",
    "    'P-Value': p_value_rank,\n",
    "    'Result': \"Reject H0\" if p_value_rank < 0.05 else \"Fail to reject H0\"\n",
    "}\n",
    "\n",
    "print(rank_gof_result)"
   ]
  }
 ],
 "metadata": {
  "kernelspec": {
   "display_name": "base",
   "language": "python",
   "name": "python3"
  },
  "language_info": {
   "codemirror_mode": {
    "name": "ipython",
    "version": 3
   },
   "file_extension": ".py",
   "mimetype": "text/x-python",
   "name": "python",
   "nbconvert_exporter": "python",
   "pygments_lexer": "ipython3",
   "version": "3.12.4"
  },
  "orig_nbformat": 4
 },
 "nbformat": 4,
 "nbformat_minor": 2
}

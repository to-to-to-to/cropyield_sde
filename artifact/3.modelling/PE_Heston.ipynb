{
 "cells": [
  {
   "cell_type": "code",
   "execution_count": 1,
   "id": "09073e8d-c57b-4355-8561-8e7328fcdc72",
   "metadata": {},
   "outputs": [
    {
     "name": "stderr",
     "output_type": "stream",
     "text": [
      "/opt/anaconda3/lib/python3.12/site-packages/pandas/core/arraylike.py:399: RuntimeWarning: divide by zero encountered in log\n",
      "  result = getattr(ufunc, method)(*inputs, **kwargs)\n",
      "/opt/anaconda3/lib/python3.12/site-packages/pandas/core/arraylike.py:399: RuntimeWarning: invalid value encountered in log\n",
      "  result = getattr(ufunc, method)(*inputs, **kwargs)\n"
     ]
    },
    {
     "name": "stdout",
     "output_type": "stream",
     "text": [
      "{'Mu (Drift)': -0.01762635440919763, 'Kappa (Mean Reversion Speed)': 0.05360217296743761, 'Theta (Long-run Variance)': 1.1327667398172898, 'Sigma (Volatility of Volatility)': 0.2145933527454109}\n"
     ]
    }
   ],
   "source": [
    "import numpy as np\n",
    "import pandas as pd\n",
    "from scipy.optimize import minimize\n",
    "\n",
    "# Load dataset\n",
    "df = pd.read_csv(\"/Users/vitorihaldijiran/Desktop/cropyield_sde/artifact/datasets/CropSDEData/METEO_DEKADS_NUTS2_NL.csv\")\n",
    "\n",
    "df = df.dropna(subset=['TAVG'])\n",
    "\n",
    "# Compute log-returns of TAVG (temperature)\n",
    "df['log_TAVG'] = np.log(df['TAVG'])\n",
    "df['returns'] = df['log_TAVG'].diff().dropna()\n",
    "\n",
    "# Estimate rolling variance (stochastic variance process V_t)\n",
    "rolling_window = 30  # 30 periods to smooth the variance\n",
    "df['variance'] = df['returns'].rolling(window=rolling_window).var().dropna()\n",
    "\n",
    "# Drop NaN values\n",
    "df = df.dropna(subset=['returns', 'variance'])\n",
    "\n",
    "# Define the Heston log-likelihood function\n",
    "def heston_log_likelihood(params, returns, variance):\n",
    "    \"\"\"\n",
    "    Compute the log-likelihood for the Heston Model.\n",
    "    \"\"\"\n",
    "    mu, kappa, theta, sigma = params\n",
    "    log_likelihood = 0\n",
    "    T = len(returns)\n",
    "    \n",
    "    for t in range(1, T):\n",
    "        vt = variance.iloc[t]\n",
    "        vt_minus_1 = variance.iloc[t - 1]\n",
    "\n",
    "        # Expected variance at time t\n",
    "        expected_vt = vt_minus_1 + kappa * (theta - vt_minus_1)\n",
    "        variance_vt = sigma**2 * vt_minus_1\n",
    "\n",
    "        # Compute log-likelihood\n",
    "        if variance_vt > 0 and vt > 0:\n",
    "            ll_v = -0.5 * np.log(2 * np.pi * variance_vt) - ((vt - expected_vt) ** 2) / (2 * variance_vt)\n",
    "            ll_r = -0.5 * np.log(2 * np.pi * vt) - (returns.iloc[t] - mu) ** 2 / (2 * vt)\n",
    "            log_likelihood += ll_v + ll_r\n",
    "\n",
    "    return -log_likelihood  # Negative for minimization\n",
    "\n",
    "# Initial parameter guesses\n",
    "initial_params = [0.01, 0.2, 0.02, 0.1]\n",
    "\n",
    "# Define bounds for parameters to ensure they remain physically meaningful\n",
    "param_bounds = [(None, None),  # mu (drift) can be any value\n",
    "                (1e-4, None),  # kappa (mean reversion speed) must be positive\n",
    "                (1e-4, None),  # theta (long-run variance) must be positive\n",
    "                (1e-4, None)]  # sigma (volatility of volatility) must be positive\n",
    "\n",
    "# Re-run optimization with bounds\n",
    "result_constrained = minimize(heston_log_likelihood, initial_params, args=(df['returns'], df['variance']), \n",
    "                              method='L-BFGS-B', bounds=param_bounds)\n",
    "\n",
    "# Extract new estimated parameters\n",
    "mu_hat, kappa_hat, theta_hat, sigma_hat = result_constrained.x\n",
    "\n",
    "# Display updated estimated parameters\n",
    "estimated_params_constrained = {\n",
    "    \"Mu (Drift)\": mu_hat,\n",
    "    \"Kappa (Mean Reversion Speed)\": kappa_hat,\n",
    "    \"Theta (Long-run Variance)\": theta_hat,\n",
    "    \"Sigma (Volatility of Volatility)\": sigma_hat\n",
    "}\n",
    "\n",
    "print(estimated_params_constrained)\n"
   ]
  },
  {
   "cell_type": "code",
   "execution_count": null,
   "id": "b42c9609-1187-403d-adad-0cffd2381d4e",
   "metadata": {},
   "outputs": [],
   "source": []
  }
 ],
 "metadata": {
  "kernelspec": {
   "display_name": "Python 3 (ipykernel)",
   "language": "python",
   "name": "python3"
  },
  "language_info": {
   "codemirror_mode": {
    "name": "ipython",
    "version": 3
   },
   "file_extension": ".py",
   "mimetype": "text/x-python",
   "name": "python",
   "nbconvert_exporter": "python",
   "pygments_lexer": "ipython3",
   "version": "3.12.4"
  }
 },
 "nbformat": 4,
 "nbformat_minor": 5
}
